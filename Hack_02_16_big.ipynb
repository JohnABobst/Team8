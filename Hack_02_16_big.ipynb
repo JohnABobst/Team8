{
 "cells": [
  {
   "cell_type": "code",
   "execution_count": 1,
   "metadata": {},
   "outputs": [],
   "source": [
    "import pandas as pd \n",
    "import numpy as np\n",
    "# from surprise import Dataset\n",
    "import warnings\n",
    "import operator\n",
    "import math\n",
    "warnings.filterwarnings('ignore')"
   ]
  },
  {
   "cell_type": "code",
   "execution_count": 2,
   "metadata": {},
   "outputs": [],
   "source": [
    "#Full Name\tStudent ID\tFirst\tLast\tCohort\tEvening\tLocation\tPhone Number\tEmail\tCareer Interests for Matching\tAttendance\tModule Score\tProject Score\tBonus\tTotal Score\n"
   ]
  },
  {
   "cell_type": "code",
   "execution_count": 3,
   "metadata": {},
   "outputs": [],
   "source": [
    "# df_st_mat = pd.read_csv(\"stu_matBig.csv\")\n",
    "df_st_mat = pd.read_csv(\"stu_mat.csv\")\n",
    "\n"
   ]
  },
  {
   "cell_type": "code",
   "execution_count": 4,
   "metadata": {},
   "outputs": [],
   "source": [
    "df_st_mat = df_st_mat.replace(to_replace = np.nan,  value=0)"
   ]
  },
  {
   "cell_type": "code",
   "execution_count": 5,
   "metadata": {},
   "outputs": [
    {
     "data": {
      "text/html": [
       "<div>\n",
       "<style scoped>\n",
       "    .dataframe tbody tr th:only-of-type {\n",
       "        vertical-align: middle;\n",
       "    }\n",
       "\n",
       "    .dataframe tbody tr th {\n",
       "        vertical-align: top;\n",
       "    }\n",
       "\n",
       "    .dataframe thead th {\n",
       "        text-align: right;\n",
       "    }\n",
       "</style>\n",
       "<table border=\"1\" class=\"dataframe\">\n",
       "  <thead>\n",
       "    <tr style=\"text-align: right;\">\n",
       "      <th></th>\n",
       "      <th>Student</th>\n",
       "      <th>ID</th>\n",
       "      <th>Human Resources</th>\n",
       "      <th>Management</th>\n",
       "      <th>Public Relations</th>\n",
       "      <th>Communications</th>\n",
       "      <th>Software</th>\n",
       "      <th>Health</th>\n",
       "      <th>Education</th>\n",
       "      <th>Finance</th>\n",
       "      <th>Business</th>\n",
       "    </tr>\n",
       "  </thead>\n",
       "  <tbody>\n",
       "    <tr>\n",
       "      <th>0</th>\n",
       "      <td>Adam Ababneh</td>\n",
       "      <td>1</td>\n",
       "      <td>0.0</td>\n",
       "      <td>0.0</td>\n",
       "      <td>1.0</td>\n",
       "      <td>0.0</td>\n",
       "      <td>1.0</td>\n",
       "      <td>0.0</td>\n",
       "      <td>0.0</td>\n",
       "      <td>0.0</td>\n",
       "      <td>0.0</td>\n",
       "    </tr>\n",
       "    <tr>\n",
       "      <th>1</th>\n",
       "      <td>Akhil Modali</td>\n",
       "      <td>2</td>\n",
       "      <td>0.0</td>\n",
       "      <td>1.0</td>\n",
       "      <td>0.0</td>\n",
       "      <td>1.0</td>\n",
       "      <td>0.0</td>\n",
       "      <td>0.0</td>\n",
       "      <td>1.0</td>\n",
       "      <td>0.0</td>\n",
       "      <td>0.0</td>\n",
       "    </tr>\n",
       "    <tr>\n",
       "      <th>2</th>\n",
       "      <td>Alejandra Magana</td>\n",
       "      <td>3</td>\n",
       "      <td>1.0</td>\n",
       "      <td>0.0</td>\n",
       "      <td>0.0</td>\n",
       "      <td>0.0</td>\n",
       "      <td>1.0</td>\n",
       "      <td>1.0</td>\n",
       "      <td>0.0</td>\n",
       "      <td>0.0</td>\n",
       "      <td>0.0</td>\n",
       "    </tr>\n",
       "    <tr>\n",
       "      <th>3</th>\n",
       "      <td>Alexandra Reyes</td>\n",
       "      <td>4</td>\n",
       "      <td>0.0</td>\n",
       "      <td>1.0</td>\n",
       "      <td>1.0</td>\n",
       "      <td>0.0</td>\n",
       "      <td>0.0</td>\n",
       "      <td>0.0</td>\n",
       "      <td>0.0</td>\n",
       "      <td>0.0</td>\n",
       "      <td>1.0</td>\n",
       "    </tr>\n",
       "    <tr>\n",
       "      <th>4</th>\n",
       "      <td>Angeles Chavez</td>\n",
       "      <td>5</td>\n",
       "      <td>1.0</td>\n",
       "      <td>0.0</td>\n",
       "      <td>0.0</td>\n",
       "      <td>0.0</td>\n",
       "      <td>0.0</td>\n",
       "      <td>0.0</td>\n",
       "      <td>0.0</td>\n",
       "      <td>1.0</td>\n",
       "      <td>0.0</td>\n",
       "    </tr>\n",
       "  </tbody>\n",
       "</table>\n",
       "</div>"
      ],
      "text/plain": [
       "            Student  ID  Human Resources  Management  Public Relations  \\\n",
       "0      Adam Ababneh   1              0.0         0.0               1.0   \n",
       "1      Akhil Modali   2              0.0         1.0               0.0   \n",
       "2  Alejandra Magana   3              1.0         0.0               0.0   \n",
       "3   Alexandra Reyes   4              0.0         1.0               1.0   \n",
       "4    Angeles Chavez   5              1.0         0.0               0.0   \n",
       "\n",
       "   Communications  Software  Health  Education  Finance  Business  \n",
       "0             0.0       1.0     0.0        0.0      0.0       0.0  \n",
       "1             1.0       0.0     0.0        1.0      0.0       0.0  \n",
       "2             0.0       1.0     1.0        0.0      0.0       0.0  \n",
       "3             0.0       0.0     0.0        0.0      0.0       1.0  \n",
       "4             0.0       0.0     0.0        0.0      1.0       0.0  "
      ]
     },
     "execution_count": 5,
     "metadata": {},
     "output_type": "execute_result"
    }
   ],
   "source": [
    "df_st_mat.head()"
   ]
  },
  {
   "cell_type": "code",
   "execution_count": 6,
   "metadata": {},
   "outputs": [],
   "source": [
    "# df_vol_mat = pd.read_csv(\"vol_matBig.csv\")\n",
    "df_vol_mat = pd.read_csv(\"vol_mat.csv\")\n",
    "\n"
   ]
  },
  {
   "cell_type": "code",
   "execution_count": 7,
   "metadata": {},
   "outputs": [],
   "source": [
    "df_vol_mat = df_vol_mat.replace(to_replace = np.nan,  value=0)"
   ]
  },
  {
   "cell_type": "code",
   "execution_count": 8,
   "metadata": {},
   "outputs": [
    {
     "data": {
      "text/html": [
       "<div>\n",
       "<style scoped>\n",
       "    .dataframe tbody tr th:only-of-type {\n",
       "        vertical-align: middle;\n",
       "    }\n",
       "\n",
       "    .dataframe tbody tr th {\n",
       "        vertical-align: top;\n",
       "    }\n",
       "\n",
       "    .dataframe thead th {\n",
       "        text-align: right;\n",
       "    }\n",
       "</style>\n",
       "<table border=\"1\" class=\"dataframe\">\n",
       "  <thead>\n",
       "    <tr style=\"text-align: right;\">\n",
       "      <th></th>\n",
       "      <th>Volunteer</th>\n",
       "      <th>ID</th>\n",
       "      <th>Human Resources</th>\n",
       "      <th>Management</th>\n",
       "      <th>Public Relations</th>\n",
       "      <th>Communications</th>\n",
       "      <th>Software</th>\n",
       "      <th>Health</th>\n",
       "      <th>Education</th>\n",
       "      <th>Finance</th>\n",
       "      <th>Business</th>\n",
       "    </tr>\n",
       "  </thead>\n",
       "  <tbody>\n",
       "    <tr>\n",
       "      <th>0</th>\n",
       "      <td>Jiaxian Cai</td>\n",
       "      <td>11111</td>\n",
       "      <td>1.0</td>\n",
       "      <td>0.0</td>\n",
       "      <td>1.0</td>\n",
       "      <td>0.0</td>\n",
       "      <td>1.0</td>\n",
       "      <td>0.0</td>\n",
       "      <td>0.0</td>\n",
       "      <td>1.0</td>\n",
       "      <td>0.0</td>\n",
       "    </tr>\n",
       "    <tr>\n",
       "      <th>1</th>\n",
       "      <td>Kevin Orlando Rodezno Polanco</td>\n",
       "      <td>11112</td>\n",
       "      <td>0.0</td>\n",
       "      <td>1.0</td>\n",
       "      <td>1.0</td>\n",
       "      <td>1.0</td>\n",
       "      <td>0.0</td>\n",
       "      <td>0.0</td>\n",
       "      <td>0.0</td>\n",
       "      <td>0.0</td>\n",
       "      <td>0.0</td>\n",
       "    </tr>\n",
       "    <tr>\n",
       "      <th>2</th>\n",
       "      <td>Allison Meyers</td>\n",
       "      <td>11113</td>\n",
       "      <td>0.0</td>\n",
       "      <td>1.0</td>\n",
       "      <td>1.0</td>\n",
       "      <td>0.0</td>\n",
       "      <td>1.0</td>\n",
       "      <td>0.0</td>\n",
       "      <td>0.0</td>\n",
       "      <td>0.0</td>\n",
       "      <td>0.0</td>\n",
       "    </tr>\n",
       "    <tr>\n",
       "      <th>3</th>\n",
       "      <td>Suzette Sandoval</td>\n",
       "      <td>11114</td>\n",
       "      <td>0.0</td>\n",
       "      <td>0.0</td>\n",
       "      <td>1.0</td>\n",
       "      <td>1.0</td>\n",
       "      <td>0.0</td>\n",
       "      <td>1.0</td>\n",
       "      <td>1.0</td>\n",
       "      <td>0.0</td>\n",
       "      <td>0.0</td>\n",
       "    </tr>\n",
       "    <tr>\n",
       "      <th>4</th>\n",
       "      <td>Dionne Gayle</td>\n",
       "      <td>11115</td>\n",
       "      <td>1.0</td>\n",
       "      <td>0.0</td>\n",
       "      <td>1.0</td>\n",
       "      <td>0.0</td>\n",
       "      <td>1.0</td>\n",
       "      <td>1.0</td>\n",
       "      <td>0.0</td>\n",
       "      <td>0.0</td>\n",
       "      <td>0.0</td>\n",
       "    </tr>\n",
       "  </tbody>\n",
       "</table>\n",
       "</div>"
      ],
      "text/plain": [
       "                       Volunteer     ID  Human Resources  Management  \\\n",
       "0                    Jiaxian Cai  11111              1.0         0.0   \n",
       "1  Kevin Orlando Rodezno Polanco  11112              0.0         1.0   \n",
       "2                 Allison Meyers  11113              0.0         1.0   \n",
       "3               Suzette Sandoval  11114              0.0         0.0   \n",
       "4                   Dionne Gayle  11115              1.0         0.0   \n",
       "\n",
       "   Public Relations  Communications  Software  Health  Education  Finance  \\\n",
       "0               1.0             0.0       1.0     0.0        0.0      1.0   \n",
       "1               1.0             1.0       0.0     0.0        0.0      0.0   \n",
       "2               1.0             0.0       1.0     0.0        0.0      0.0   \n",
       "3               1.0             1.0       0.0     1.0        1.0      0.0   \n",
       "4               1.0             0.0       1.0     1.0        0.0      0.0   \n",
       "\n",
       "   Business  \n",
       "0       0.0  \n",
       "1       0.0  \n",
       "2       0.0  \n",
       "3       0.0  \n",
       "4       0.0  "
      ]
     },
     "execution_count": 8,
     "metadata": {},
     "output_type": "execute_result"
    }
   ],
   "source": [
    "df_vol_mat.head()"
   ]
  },
  {
   "cell_type": "code",
   "execution_count": 9,
   "metadata": {},
   "outputs": [],
   "source": [
    "vol_tuple= []\n",
    "for i in range (len(df_vol_mat)):\n",
    "#     vol_tuple.append(df_vol_mat.loc[i][1:])\n",
    "    vol_tuple.append(df_vol_mat.loc[i][:])"
   ]
  },
  {
   "cell_type": "code",
   "execution_count": 10,
   "metadata": {},
   "outputs": [
    {
     "data": {
      "text/plain": [
       "array([['Jiaxian Cai', 11111, 1.0, 0.0, 1.0, 0.0, 1.0, 0.0, 0.0, 1.0,\n",
       "        0.0],\n",
       "       ['Kevin Orlando Rodezno Polanco', 11112, 0.0, 1.0, 1.0, 1.0, 0.0,\n",
       "        0.0, 0.0, 0.0, 0.0],\n",
       "       ['Allison Meyers', 11113, 0.0, 1.0, 1.0, 0.0, 1.0, 0.0, 0.0, 0.0,\n",
       "        0.0],\n",
       "       ['Suzette Sandoval', 11114, 0.0, 0.0, 1.0, 1.0, 0.0, 1.0, 1.0,\n",
       "        0.0, 0.0],\n",
       "       ['Dionne Gayle', 11115, 1.0, 0.0, 1.0, 0.0, 1.0, 1.0, 0.0, 0.0,\n",
       "        0.0],\n",
       "       ['Daman Ahluwalia', 11116, 0.0, 1.0, 1.0, 1.0, 0.0, 1.0, 0.0, 0.0,\n",
       "        0.0],\n",
       "       ['Meredith Curry', 11117, 1.0, 1.0, 0.0, 0.0, 1.0, 0.0, 1.0, 0.0,\n",
       "        1.0],\n",
       "       ['Charles Anderson', 11118, 0.0, 1.0, 0.0, 1.0, 0.0, 1.0, 1.0,\n",
       "        1.0, 0.0],\n",
       "       ['Lauren Koehler', 11119, 1.0, 1.0, 0.0, 1.0, 0.0, 1.0, 0.0, 1.0,\n",
       "        0.0]], dtype=object)"
      ]
     },
     "execution_count": 10,
     "metadata": {},
     "output_type": "execute_result"
    }
   ],
   "source": [
    "np.asarray(vol_tuple)"
   ]
  },
  {
   "cell_type": "markdown",
   "metadata": {},
   "source": [
    "# Volunteer Jaccard Array"
   ]
  },
  {
   "cell_type": "code",
   "execution_count": 11,
   "metadata": {},
   "outputs": [
    {
     "name": "stdout",
     "output_type": "stream",
     "text": [
      "[['Jiaxian Cai' 11111 1.0 0.0 1.0 0.0 1.0 0.0 0.0 1.0 0.0]\n",
      " ['Kevin Orlando Rodezno Polanco' 11112 0.0 1.0 1.0 1.0 0.0 0.0 0.0 0.0\n",
      "  0.0]\n",
      " ['Allison Meyers' 11113 0.0 1.0 1.0 0.0 1.0 0.0 0.0 0.0 0.0]\n",
      " ['Suzette Sandoval' 11114 0.0 0.0 1.0 1.0 0.0 1.0 1.0 0.0 0.0]\n",
      " ['Dionne Gayle' 11115 1.0 0.0 1.0 0.0 1.0 1.0 0.0 0.0 0.0]\n",
      " ['Daman Ahluwalia' 11116 0.0 1.0 1.0 1.0 0.0 1.0 0.0 0.0 0.0]\n",
      " ['Meredith Curry' 11117 1.0 1.0 0.0 0.0 1.0 0.0 1.0 0.0 1.0]\n",
      " ['Charles Anderson' 11118 0.0 1.0 0.0 1.0 0.0 1.0 1.0 1.0 0.0]\n",
      " ['Lauren Koehler' 11119 1.0 1.0 0.0 1.0 0.0 1.0 0.0 1.0 0.0]]\n",
      "(9, 11)\n"
     ]
    }
   ],
   "source": [
    "vol_Array=np.asarray(vol_tuple)\n",
    "print(vol_Array)\n",
    "print(vol_Array.shape)"
   ]
  },
  {
   "cell_type": "markdown",
   "metadata": {},
   "source": [
    "# Student Jaccard Array"
   ]
  },
  {
   "cell_type": "code",
   "execution_count": 12,
   "metadata": {},
   "outputs": [],
   "source": [
    "Stu_tuple= []\n",
    "for i in range (len(df_st_mat)):\n",
    "#     Stu_tuple.append(df_st_mat.loc[i][1:])\n",
    "    Stu_tuple.append(df_st_mat.loc[i][:])"
   ]
  },
  {
   "cell_type": "code",
   "execution_count": 13,
   "metadata": {},
   "outputs": [
    {
     "name": "stdout",
     "output_type": "stream",
     "text": [
      "[['Adam Ababneh' 1 0.0 0.0 1.0 0.0 1.0 0.0 0.0 0.0 0.0]\n",
      " ['Akhil Modali' 2 0.0 1.0 0.0 1.0 0.0 0.0 1.0 0.0 0.0]\n",
      " ['Alejandra Magana' 3 1.0 0.0 0.0 0.0 1.0 1.0 0.0 0.0 0.0]\n",
      " ['Alexandra Reyes' 4 0.0 1.0 1.0 0.0 0.0 0.0 0.0 0.0 1.0]\n",
      " ['Angeles Chavez' 5 1.0 0.0 0.0 0.0 0.0 0.0 0.0 1.0 0.0]\n",
      " ['Anna Terzian' 6 0.0 0.0 1.0 0.0 0.0 1.0 0.0 0.0 0.0]\n",
      " ['Cameryn Newman' 7 0.0 0.0 0.0 0.0 1.0 0.0 0.0 0.0 1.0]\n",
      " ['Daniella Medina' 8 0.0 1.0 0.0 1.0 0.0 0.0 0.0 0.0 0.0]\n",
      " ['David Oguns' 9 1.0 1.0 0.0 1.0 0.0 1.0 0.0 1.0 0.0]]\n",
      "(9, 11)\n"
     ]
    }
   ],
   "source": [
    "stu_Array= np.asarray(Stu_tuple)\n",
    "print(stu_Array)\n",
    "print(stu_Array.shape)"
   ]
  },
  {
   "cell_type": "markdown",
   "metadata": {},
   "source": [
    "# student Data"
   ]
  },
  {
   "cell_type": "code",
   "execution_count": 14,
   "metadata": {},
   "outputs": [
    {
     "name": "stdout",
     "output_type": "stream",
     "text": [
      "[['Adam Ababneh', 1, 0.0, 0.0, 1.0, 0.0, 1.0, 0.0, 0.0, 0.0, 0.0], ['Akhil Modali', 2, 0.0, 1.0, 0.0, 1.0, 0.0, 0.0, 1.0, 0.0, 0.0], ['Alejandra Magana', 3, 1.0, 0.0, 0.0, 0.0, 1.0, 1.0, 0.0, 0.0, 0.0], ['Alexandra Reyes', 4, 0.0, 1.0, 1.0, 0.0, 0.0, 0.0, 0.0, 0.0, 1.0], ['Angeles Chavez', 5, 1.0, 0.0, 0.0, 0.0, 0.0, 0.0, 0.0, 1.0, 0.0], ['Anna Terzian', 6, 0.0, 0.0, 1.0, 0.0, 0.0, 1.0, 0.0, 0.0, 0.0], ['Cameryn Newman', 7, 0.0, 0.0, 0.0, 0.0, 1.0, 0.0, 0.0, 0.0, 1.0], ['Daniella Medina', 8, 0.0, 1.0, 0.0, 1.0, 0.0, 0.0, 0.0, 0.0, 0.0], ['David Oguns', 9, 1.0, 1.0, 0.0, 1.0, 0.0, 1.0, 0.0, 1.0, 0.0]]\n"
     ]
    }
   ],
   "source": [
    "stu_list = df_st_mat.values.tolist()\n",
    "print(stu_list)"
   ]
  },
  {
   "cell_type": "markdown",
   "metadata": {},
   "source": [
    "# Volunteer Data"
   ]
  },
  {
   "cell_type": "code",
   "execution_count": 15,
   "metadata": {},
   "outputs": [
    {
     "name": "stdout",
     "output_type": "stream",
     "text": [
      "[['Jiaxian Cai', 11111, 1.0, 0.0, 1.0, 0.0, 1.0, 0.0, 0.0, 1.0, 0.0], ['Kevin Orlando Rodezno Polanco', 11112, 0.0, 1.0, 1.0, 1.0, 0.0, 0.0, 0.0, 0.0, 0.0], ['Allison Meyers', 11113, 0.0, 1.0, 1.0, 0.0, 1.0, 0.0, 0.0, 0.0, 0.0], ['Suzette Sandoval', 11114, 0.0, 0.0, 1.0, 1.0, 0.0, 1.0, 1.0, 0.0, 0.0], ['Dionne Gayle', 11115, 1.0, 0.0, 1.0, 0.0, 1.0, 1.0, 0.0, 0.0, 0.0], ['Daman Ahluwalia', 11116, 0.0, 1.0, 1.0, 1.0, 0.0, 1.0, 0.0, 0.0, 0.0], ['Meredith Curry', 11117, 1.0, 1.0, 0.0, 0.0, 1.0, 0.0, 1.0, 0.0, 1.0], ['Charles Anderson', 11118, 0.0, 1.0, 0.0, 1.0, 0.0, 1.0, 1.0, 1.0, 0.0], ['Lauren Koehler', 11119, 1.0, 1.0, 0.0, 1.0, 0.0, 1.0, 0.0, 1.0, 0.0]]\n"
     ]
    }
   ],
   "source": [
    "vol_list = df_vol_mat.values.tolist()\n",
    "print(vol_list)"
   ]
  },
  {
   "cell_type": "code",
   "execution_count": 16,
   "metadata": {},
   "outputs": [],
   "source": [
    "#backup loop\n",
    "# vol_s =[]\n",
    "# vol_sim={}\n",
    "# stu_s =[]\n",
    "# stu_sim={}\n",
    "# for i in vol_list:\n",
    "#     v1= i\n",
    "#     vol_s.append(v1[0:2])\n",
    "# #     viarr = int(v1[1:])\n",
    "#     print(v1[1:])\n",
    "#     sumxx,sumyy,sumxy =0,0,0\n",
    "# #     print(vol_s[0][1])\n",
    "# #     print(vol_s)\n",
    "#     for j in stu_list:\n",
    "#         v2=j\n",
    "#         print (v2[1:])\n",
    "#         stu_s.append(v2[0:2])\n",
    "#         #cosine\n",
    "# #         x=v1[2:]\n",
    "# #         y=v2[2:]\n",
    "# #         sumxx += x*x\n",
    "# #         sumyy += y*y\n",
    "# #         sumxy += x+y\n",
    "# #         print(sumxy/math.sqrt(sumxx*sumyy))\n",
    "# #         print(viarr)\n",
    "        \n",
    "        \n",
    "#         break\n",
    "        \n",
    "#     break"
   ]
  },
  {
   "cell_type": "markdown",
   "metadata": {},
   "source": [
    "# Finding Similarities and mapping with volunteer to all the students Volunteer to student confidence calculation"
   ]
  },
  {
   "cell_type": "code",
   "execution_count": 17,
   "metadata": {},
   "outputs": [
    {
     "name": "stdout",
     "output_type": "stream",
     "text": [
      "[('Jiaxian Cai', 11111, [('David Oguns', 9, 0.8533389453903181), ('Daniella Medina', 8, 0.8523438665480237), ('Cameryn Newman', 7, 0.8446401884579444), ('Anna Terzian', 6, 0.8327327016560991), ('Angeles Chavez', 5, 0.8135233705293939), ('Alexandra Reyes', 4, 0.7809039362399531), ('Alejandra Magana', 3, 0.7385932472904329), ('Akhil Modali', 2, 0.6708606320078686), ('Adam Ababneh', 1, 0.577454183922376)]), ('Kevin Orlando Rodezno Polanco', 11112, [('David Oguns', 9, 0.8533372406549892), ('Daniella Medina', 8, 0.8523417376348326), ('Cameryn Newman', 7, 0.8446320458242016), ('Anna Terzian', 6, 0.8327255655680145), ('Angeles Chavez', 5, 0.8135136096616382), ('Alexandra Reyes', 4, 0.7809039362420875), ('Alejandra Magana', 3, 0.7385821689476596), ('Akhil Modali', 2, 0.6708807541059119), ('Adam Ababneh', 1, 0.5774022195429488)]), ('Allison Meyers', 11113, [('David Oguns', 9, 0.8533372391212625), ('Daniella Medina', 8, 0.8523438665524498), ('Cameryn Newman', 7, 0.8446374731102461), ('Anna Terzian', 6, 0.8327291317687122), ('Angeles Chavez', 5, 0.8135184875731686), ('Alexandra Reyes', 4, 0.7809109597067401), ('Alejandra Magana', 3, 0.7385932423099727), ('Akhil Modali', 2, 0.6708807486750915), ('Adam Ababneh', 1, 0.5774541675604813)]), ('Suzette Sandoval', 11114, [('David Oguns', 9, 0.8533372341335922), ('Daniella Medina', 8, 0.8523417311210433), ('Cameryn Newman', 7, 0.8446347536085662), ('Anna Terzian', 6, 0.8327291261523977), ('Angeles Chavez', 5, 0.8135136019808288), ('Alexandra Reyes', 4, 0.7809039267615971), ('Alejandra Magana', 3, 0.7385932353353893), ('Akhil Modali', 2, 0.6708807405295938), ('Adam Ababneh', 1, 0.5774022078583146)]), ('Dionne Gayle', 11115, [('David Oguns', 9, 0.8533406446874969), ('Daniella Medina', 8, 0.8523459897226763), ('Cameryn Newman', 7, 0.8446428935612051), ('Anna Terzian', 6, 0.8327362588748107), ('Angeles Chavez', 5, 0.8135233582431017), ('Alexandra Reyes', 4, 0.7809109489635769), ('Alejandra Magana', 3, 0.7386043057097921), ('Akhil Modali', 2, 0.6708606175308941), ('Adam Ababneh', 1, 0.5774541465295269)]), ('Daman Ahluwalia', 11116, [('David Oguns', 9, 0.8533423487380187), ('Daniella Medina', 8, 0.8523459878089424), ('Cameryn Newman', 7, 0.844637463837538), ('Anna Terzian', 6, 0.8327326888263191), ('Angeles Chavez', 5, 0.8135184763843548), ('Alexandra Reyes', 4, 0.7809109451738254), ('Alejandra Magana', 3, 0.7385932273689443), ('Akhil Modali', 2, 0.6708807296738151), ('Adam Ababneh', 1, 0.577402198515148)]), ('Meredith Curry', 11117, [('David Oguns', 9, 0.8533423432932937), ('Daniella Medina', 8, 0.8523481121301897), ('Cameryn Newman', 7, 0.8446428852665362), ('Anna Terzian', 6, 0.832732682892752), ('Angeles Chavez', 5, 0.8135282271616671), ('Alexandra Reyes', 4, 0.7809179623217877), ('Alejandra Magana', 3, 0.7386042927642724), ('Akhil Modali', 2, 0.6708807215332012), ('Adam Ababneh', 1, 0.577402191508823)]), ('Charles Anderson', 11118, [('David Oguns', 9, 0.853342341301924), ('Daniella Medina', 8, 0.8523438510433526), ('Cameryn Newman', 7, 0.8446347433665009), ('Anna Terzian', 6, 0.8327291138084268), ('Angeles Chavez', 5, 0.8135184678325968), ('Alexandra Reyes', 4, 0.7809039109730008), ('Alejandra Magana', 3, 0.7385932164177679), ('Akhil Modali', 2, 0.6708807161082406), ('Adam Ababneh', 1, 0.5773502575127669)]), ('Lauren Koehler', 11119, [('David Oguns', 9, 0.8533457501698772), ('Daniella Medina', 8, 0.8523459786227001), ('Cameryn Newman', 7, 0.8446374545716763), ('Anna Terzian', 6, 0.8327326777662036), ('Angeles Chavez', 5, 0.8135233426755502), ('Alexandra Reyes', 4, 0.780903907817525), ('Alejandra Magana', 3, 0.7385932124375895), ('Akhil Modali', 2, 0.6708606003512014), ('Adam Ababneh', 1, 0.5773502575148671)])]\n"
     ]
    }
   ],
   "source": [
    "vol_stu_list=[]\n",
    "for i in vol_Array:\n",
    "    tupList=[]\n",
    "    vol_stu_List = []\n",
    "    sim=0\n",
    "    v1=i\n",
    "#     print(\"1 is here\")\n",
    "    sumxx,sumyy,sumxy =0,0,0\n",
    "    for j in stu_Array:\n",
    "#         print(\"2 is here\")\n",
    "        v2=j\n",
    "        \n",
    "#         k=0\n",
    "        k=0\n",
    "        \n",
    "        for k in range(len(v1)-1):\n",
    "#             print(\"3 is here\")\n",
    "            x=v1[k+1]\n",
    "            y=v2[k+1]\n",
    "#             print(v2)\n",
    "            sumxx += x*x\n",
    "            sumyy += y*y\n",
    "            sumxy += x*y\n",
    "            sim = sumxy/math.sqrt(sumxx*sumyy)\n",
    "#         print(\"4 is here\")\n",
    "        tupList.append((v2[0],v2[1],sim))\n",
    "#         print(v2[1])\n",
    "#     print(tupList)\n",
    "    sortby = sorted(tupList, key= lambda tup: tup[1],reverse=True)\n",
    "#     print(len(sortby))\n",
    "#     print(v1)\n",
    "#     print(sortby[:3])\n",
    "#     print(\"here\" , v1[0])\n",
    "    temp = sortby\n",
    "#     print(temp,'temp')\n",
    "#     print(v1[0])\n",
    "    vol_stu_list.append((v1[0],v1[1],temp))\n",
    "#     print(list(vol_stu_list))\n",
    "#     break\n",
    "# print(vol_stu_list)\n",
    "   \n",
    "    \n",
    "# print(len(vol_stu_list))\n",
    "    \n",
    "    \n",
    "        \n",
    "#         sortby = tupList.sort(key = lambda tup: tup[0])\n",
    "#         for q in tupList:\n",
    "#             print(q)\n",
    "    \n",
    "#         print(tupList)\n",
    "        #2nd for end\n",
    "        \n",
    "\n",
    "#     break\n",
    "# print(vol_stu_list)\n",
    "# p=0\n",
    "# for l in (vol_stu_list):\n",
    "# #     print(vol_stu_list)\n",
    "# #     print(p,\"p\")\n",
    "#     print(vol_stu_list[p][0][0], vol_stu_list[p][1])\n",
    "#     p=p+1\n",
    "\n",
    "# list(map(lambda x:print(x),vol_stu_map))\n",
    "\n",
    "print((vol_stu_list))\n",
    "# print(dir(vol_stu_list))\n",
    "# list_vol = list(vol_stu_list)\n"
   ]
  },
  {
   "cell_type": "code",
   "execution_count": 18,
   "metadata": {},
   "outputs": [
    {
     "name": "stdout",
     "output_type": "stream",
     "text": [
      "Volunteer count 9\n",
      "('Daniella Medina', 8, 0.8523438665480237)\n",
      "Student Count 9\n"
     ]
    }
   ],
   "source": [
    "# print((vol_stu_list))\n",
    "print(\"Volunteer count\",len(vol_stu_list))\n",
    "print(vol_stu_list[0][2][1])\n",
    "print(\"Student Count\",len(vol_stu_list[0][2]))"
   ]
  },
  {
   "cell_type": "markdown",
   "metadata": {},
   "source": [
    "# Mapping for reccomendation"
   ]
  },
  {
   "cell_type": "code",
   "execution_count": 27,
   "metadata": {},
   "outputs": [
    {
     "name": "stdout",
     "output_type": "stream",
     "text": [
      "9\n"
     ]
    }
   ],
   "source": [
    "selectedVal=[]\n",
    "mapList=[]\n",
    "p=0\n",
    "size = len(vol_stu_list[0][2])\n",
    "print(len(vol_stu_list[0][2]))\n",
    "p=0\n",
    "for q in range(len(vol_stu_list[0][2])):\n",
    "    comst=[]\n",
    "    for e in vol_stu_list:\n",
    "#         print(\"e[2]\",e[2][p][1])\n",
    "#         print(\"e[1][0][0]\",e[0],\"  \",e[1], \"mapped\",e[2][p][0],\"  1hello \" , e[2][p][1], \"score\", e[2][p][2])\n",
    "        comst.append((e[0],e[1],e[2][p][0],e[2][p][1],e[2][p][2]))\n",
    "    comstsort = sorted(comst, key= lambda tup: tup[4],reverse=True)\n",
    "#     print(comstsort)\n",
    "    mapList.append((comstsort[0:2])) # [0:3] will take top three neighbours\n",
    "#     print(mapList)\n",
    "    p=p+1"
   ]
  },
  {
   "cell_type": "code",
   "execution_count": 28,
   "metadata": {},
   "outputs": [],
   "source": [
    "# for "
   ]
  },
  {
   "cell_type": "code",
   "execution_count": 29,
   "metadata": {},
   "outputs": [
    {
     "name": "stdout",
     "output_type": "stream",
     "text": [
      "[[('Lauren Koehler', 11119, 'David Oguns', 9, 0.8533457501698772), ('Daman Ahluwalia', 11116, 'David Oguns', 9, 0.8533423487380187)], [('Meredith Curry', 11117, 'Daniella Medina', 8, 0.8523481121301897), ('Dionne Gayle', 11115, 'Daniella Medina', 8, 0.8523459897226763)], [('Dionne Gayle', 11115, 'Cameryn Newman', 7, 0.8446428935612051), ('Meredith Curry', 11117, 'Cameryn Newman', 7, 0.8446428852665362)], [('Dionne Gayle', 11115, 'Anna Terzian', 6, 0.8327362588748107), ('Jiaxian Cai', 11111, 'Anna Terzian', 6, 0.8327327016560991)], [('Meredith Curry', 11117, 'Angeles Chavez', 5, 0.8135282271616671), ('Jiaxian Cai', 11111, 'Angeles Chavez', 5, 0.8135233705293939)], [('Meredith Curry', 11117, 'Alexandra Reyes', 4, 0.7809179623217877), ('Allison Meyers', 11113, 'Alexandra Reyes', 4, 0.7809109597067401)], [('Dionne Gayle', 11115, 'Alejandra Magana', 3, 0.7386043057097921), ('Meredith Curry', 11117, 'Alejandra Magana', 3, 0.7386042927642724)], [('Kevin Orlando Rodezno Polanco', 11112, 'Akhil Modali', 2, 0.6708807541059119), ('Allison Meyers', 11113, 'Akhil Modali', 2, 0.6708807486750915)], [('Jiaxian Cai', 11111, 'Adam Ababneh', 1, 0.577454183922376), ('Allison Meyers', 11113, 'Adam Ababneh', 1, 0.5774541675604813)]]\n"
     ]
    }
   ],
   "source": [
    "print(mapList)"
   ]
  },
  {
   "cell_type": "code",
   "execution_count": 22,
   "metadata": {},
   "outputs": [],
   "source": [
    "# # df = pd.DataFrame(mapList[1:][1], columns=[\"Volunteer\", \"Student\",\"Match\"])\n",
    "# a= pd.DataFrame(mapList)\n",
    "# print(a.head())\n",
    "# df = pd.DataFrame(mapList[1:][1],columns=[\"Volunteer Name\", \"Volunteer ID\",\"Student Name\",\" Student Match\"])\n",
    "# # print(df.head())\n",
    "\n",
    "\n",
    "# df1 = pd.DataFrame(mapList[2:][1],columns=[\"Volunteer Name\", \"Volunteer ID\",\"Student Name\",\" Student Match\"])\n",
    "# # df1.head()\n",
    "\n"
   ]
  },
  {
   "cell_type": "code",
   "execution_count": 23,
   "metadata": {},
   "outputs": [],
   "source": [
    "# pd.pivot_table(df,index = df[0][0],values=df[0][1])"
   ]
  },
  {
   "cell_type": "code",
   "execution_count": 24,
   "metadata": {},
   "outputs": [],
   "source": [
    "# import csv\n",
    "\n",
    "# # with open('file.csv', 'w') as f:\n",
    "# #   reader = csv.reader(f)\n",
    "# #   your_list = list(mapList)\n",
    "\n",
    "# # print(your_list)\n",
    "\n",
    "# with open('file.csv', 'w') as myfile:\n",
    "#     wr = csv.writer(myfile, quoting=csv.QUOTE_ALL)\n",
    "#     wr.writerows(mapList)"
   ]
  },
  {
   "cell_type": "code",
   "execution_count": 25,
   "metadata": {},
   "outputs": [],
   "source": [
    "# with open('file_small.csv', 'w') as myfile:\n",
    "#     wr = csv.writer(myfile, quoting=csv.QUOTE_ALL)\n",
    "#     wr.writerows(mapList)"
   ]
  },
  {
   "cell_type": "code",
   "execution_count": null,
   "metadata": {},
   "outputs": [],
   "source": []
  }
 ],
 "metadata": {
  "kernelspec": {
   "display_name": "Python 3",
   "language": "python",
   "name": "python3"
  },
  "language_info": {
   "codemirror_mode": {
    "name": "ipython",
    "version": 3
   },
   "file_extension": ".py",
   "mimetype": "text/x-python",
   "name": "python",
   "nbconvert_exporter": "python",
   "pygments_lexer": "ipython3",
   "version": "3.7.3"
  }
 },
 "nbformat": 4,
 "nbformat_minor": 2
}
